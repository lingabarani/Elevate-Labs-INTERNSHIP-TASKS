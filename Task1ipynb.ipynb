{
  "nbformat": 4,
  "nbformat_minor": 0,
  "metadata": {
    "colab": {
      "provenance": []
    },
    "kernelspec": {
      "name": "python3",
      "display_name": "Python 3"
    },
    "language_info": {
      "name": "python"
    }
  },
  "cells": [
    {
      "cell_type": "code",
      "execution_count": 3,
      "metadata": {
        "colab": {
          "base_uri": "https://localhost:8080/"
        },
        "id": "cEizw4z8Q5s9",
        "outputId": "c49f22be-3b1d-4f4f-cf5a-473a7ccaf9d5"
      },
      "outputs": [
        {
          "output_type": "stream",
          "name": "stdout",
          "text": [
            "Original Data (First 5 Rows)\n",
            "   CustomerID  Gender   Age  Annual Income (k$)  Spending Score (1-100)  \\\n",
            "0           1    Male  19.0                15.0                    39.0   \n",
            "1           2  FEMALE  21.0                15.0                     NaN   \n",
            "2           3  Female  20.0                16.0                    77.0   \n",
            "3           4       M  23.0                16.0                    40.0   \n",
            "4           5    male  31.0                17.0                    76.0   \n",
            "\n",
            "  Date Joined  \n",
            "0  2022-05-14  \n",
            "1  2022/06/18  \n",
            "2  18-07-2021  \n",
            "3  2021-07-18  \n",
            "4  2021/07/19   \n",
            "\n",
            "Missing values per column:\n",
            " CustomerID                0\n",
            "Gender                    1\n",
            "Age                       1\n",
            "Annual Income (k$)        1\n",
            "Spending Score (1-100)    2\n",
            "Date Joined               0\n",
            "dtype: int64 \n",
            "\n",
            "Removed 0 duplicate rows.\n",
            "\n",
            "Cleaned Data Info \n",
            "<class 'pandas.core.frame.DataFrame'>\n",
            "RangeIndex: 20 entries, 0 to 19\n",
            "Data columns (total 6 columns):\n",
            " #   Column                Non-Null Count  Dtype         \n",
            "---  ------                --------------  -----         \n",
            " 0   customerid            20 non-null     int64         \n",
            " 1   gender                20 non-null     object        \n",
            " 2   age                   20 non-null     int64         \n",
            " 3   annual_income_k       20 non-null     float64       \n",
            " 4   spending_score_1-100  20 non-null     float64       \n",
            " 5   date_joined           9 non-null      datetime64[ns]\n",
            "dtypes: datetime64[ns](1), float64(2), int64(2), object(1)\n",
            "memory usage: 1.1+ KB\n",
            "None \n",
            "\n",
            "Cleaned Dataset Preview \n",
            "   customerid  gender  age  annual_income_k  spending_score_1-100 date_joined\n",
            "0           1    male   19             15.0             39.000000  2022-05-14\n",
            "1           2  female   21             15.0             57.388889         NaT\n",
            "2           3  female   20             16.0             77.000000         NaT\n",
            "3           4    male   23             16.0             40.000000  2021-07-18\n",
            "4           5    male   31             17.0             76.000000         NaT \n",
            "\n",
            "✅ Cleaned dataset saved as 'cleaned_mall_customers.csv'.\n",
            "\n",
            " Data Cleaning Summary\n",
            "1. Filled missing values with mean/median.\n",
            "2. Removed duplicate records.\n",
            "3. Standardized Gender values (male/female).\n",
            "4. Converted all dates to consistent format (dd-mm-yyyy).\n",
            "5. Renamed columns to lowercase with underscores.\n",
            "6. Fixed data types for Age and Income.\n"
          ]
        },
        {
          "output_type": "stream",
          "name": "stderr",
          "text": [
            "/tmp/ipython-input-3783162329.py:28: UserWarning: Parsing dates in %Y-%m-%d format when dayfirst=True was specified. Pass `dayfirst=False` or specify a format to silence this warning.\n",
            "  df['Date Joined'] = pd.to_datetime(df['Date Joined'], errors='coerce', dayfirst=True)\n"
          ]
        }
      ],
      "source": [
        "import pandas as pd\n",
        "import numpy as np\n",
        "df = pd.read_csv(\"/content/Mall_Customers_Dirty.csv\")\n",
        "\n",
        "print(\"Original Data (First 5 Rows)\")\n",
        "print(df.head(), \"\\n\")\n",
        "\n",
        "print(\"Missing values per column:\\n\", df.isnull().sum(), \"\\n\")\n",
        "\n",
        "df['Age'] = df['Age'].fillna(df['Age'].median())\n",
        "df['Spending Score (1-100)'] = df['Spending Score (1-100)'].fillna(df['Spending Score (1-100)'].mean())\n",
        "df['Gender'] = df['Gender'].replace('', np.nan)\n",
        "df['Gender'] = df['Gender'].fillna('unknown')\n",
        "df['Annual Income (k$)'] = df['Annual Income (k$)'].fillna(df['Annual Income (k$)'].mean())\n",
        "\n",
        "\n",
        "before = df.shape[0]\n",
        "df.drop_duplicates(inplace=True)\n",
        "after = df.shape[0]\n",
        "print(f\"Removed {before - after} duplicate rows.\\n\")\n",
        "\n",
        "df['Gender'] = df['Gender'].str.lower().str.strip()\n",
        "df['Gender'] = df['Gender'].replace({\n",
        "    'f': 'female', 'm': 'male', 'female ': 'female',\n",
        "    'male ': 'male', 'unknown': 'unknown'\n",
        "})\n",
        "\n",
        "df['Date Joined'] = pd.to_datetime(df['Date Joined'], errors='coerce', dayfirst=True)\n",
        "\n",
        "df.columns = df.columns.str.lower().str.replace(' ', '_').str.replace('(', '').str.replace(')', '').str.replace('$', '')\n",
        "\n",
        "df['age'] = df['age'].astype(int)\n",
        "df['annual_income_k'] = df['annual_income_k'].astype(float)\n",
        "\n",
        "print(\"Cleaned Data Info \")\n",
        "print(df.info(), \"\\n\")\n",
        "\n",
        "print(\"Cleaned Dataset Preview \")\n",
        "print(df.head(), \"\\n\")\n",
        "\n",
        "df.to_csv(\"cleaned_mall_customers.csv\", index=False)\n",
        "print(\"✅ Cleaned dataset saved as 'cleaned_mall_customers.csv'.\")\n",
        "\n",
        "# Cleaning Summary\n",
        "print(\"\\n Data Cleaning Summary\")\n",
        "print(\"1. Filled missing values with mean/median.\")\n",
        "print(\"2. Removed duplicate records.\")\n",
        "print(\"3. Standardized Gender values (male/female).\")\n",
        "print(\"4. Converted all dates to consistent format (dd-mm-yyyy).\")\n",
        "print(\"5. Renamed columns to lowercase with underscores.\")\n",
        "print(\"6. Fixed data types for Age and Income.\")\n"
      ]
    }
  ]
}